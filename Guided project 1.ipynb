{
 "cells": [
  {
   "cell_type": "code",
   "execution_count": 6,
   "metadata": {},
   "outputs": [
    {
     "name": "stdout",
     "output_type": "stream",
     "text": [
      "gun\n",
      "no False\n",
      "negative False\n",
      "shit True\n",
      "danger False\n",
      "stuff False\n"
     ]
    }
   ],
   "source": [
    "wRd = [\"no\", \"negative\", \"shit\", \"danger\",\"stuff\"]\n",
    "x = input(\"\")\n",
    "def avoids():\n",
    "         for letter in wRd:\n",
    "            check = True\n",
    "            word = letter\n",
    "            for i in list(word):\n",
    "                if i in x:\n",
    "                    check = False\n",
    "            print(letter, check)\n",
    "            \n",
    "avoids()  \n",
    "       "
   ]
  },
  {
   "cell_type": "code",
   "execution_count": 8,
   "metadata": {},
   "outputs": [
    {
     "name": "stdout",
     "output_type": "stream",
     "text": [
      "rage\n",
      "no False\n",
      "negative False\n",
      "shit False\n",
      "danger True\n",
      "stuff False\n"
     ]
    }
   ],
   "source": [
    "wRd = [\"no\", \"negative\", \"shit\", \"danger\",\"stuff\"]\n",
    "x = list(input(\"\"))\n",
    "for letter in wRd:\n",
    "            check = True\n",
    "            for i in x:\n",
    "                if i in list(letter):\n",
    "                    pass\n",
    "                else:    \n",
    "                    check = False\n",
    "            print(letter, check)\n",
    "            \n",
    "    "
   ]
  },
  {
   "cell_type": "markdown",
   "metadata": {},
   "source": [
    " y = x^2\n",
    "$$y = x^2$$\\\n",
    "$x / y$"
   ]
  },
  {
   "cell_type": "code",
   "execution_count": null,
   "metadata": {},
   "outputs": [],
   "source": []
  },
  {
   "cell_type": "code",
   "execution_count": null,
   "metadata": {},
   "outputs": [],
   "source": [
    "\n",
    "\n",
    "\n",
    "\n",
    "\n",
    "\n",
    "\n",
    "\n",
    "\n",
    "\n",
    "\n",
    "\n",
    "\n",
    "\n",
    "\n",
    "\n",
    "\n",
    "\n",
    "\n",
    "\n",
    "\n",
    "\n",
    "\n",
    "\n",
    "\n",
    "\n",
    "\n",
    "\n",
    "\n",
    "\n",
    "\n",
    "\n",
    "\n",
    "\n",
    "\n",
    "\n",
    "\n",
    "\n",
    "\n",
    "\n",
    "\n",
    "\n",
    "\n",
    "\n",
    "\n",
    "\n"
   ]
  },
  {
   "cell_type": "code",
   "execution_count": 12,
   "metadata": {},
   "outputs": [
    {
     "name": "stdout",
     "output_type": "stream",
     "text": [
      "f\n",
      "give True\n",
      "no True\n",
      "why True\n",
      "do True\n"
     ]
    }
   ],
   "source": [
    "wRd = [\"give\", \"no\", \"why\",\"do\"]\n",
    "x = input(\"\")\n",
    "for letter in wRd:\n",
    "    safe = True\n",
    "    word = letter\n",
    "    for i in list(letter):\n",
    "        if i in x:\n",
    "            safe = False\n",
    "    print(letter,safe)    "
   ]
  },
  {
   "cell_type": "code",
   "execution_count": null,
   "metadata": {},
   "outputs": [],
   "source": [
    "wRd = [\"give\", \"no\", \"why\",\"do\"]\n",
    "x = input(\"\")\n"
   ]
  }
 ],
 "metadata": {
  "kernelspec": {
   "display_name": "Python 3",
   "language": "python",
   "name": "python3"
  },
  "language_info": {
   "codemirror_mode": {
    "name": "ipython",
    "version": 3
   },
   "file_extension": ".py",
   "mimetype": "text/x-python",
   "name": "python",
   "nbconvert_exporter": "python",
   "pygments_lexer": "ipython3",
   "version": "3.8.5"
  }
 },
 "nbformat": 4,
 "nbformat_minor": 4
}
