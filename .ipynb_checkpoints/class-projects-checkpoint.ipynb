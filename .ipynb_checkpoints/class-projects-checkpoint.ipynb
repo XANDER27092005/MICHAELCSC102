{
 "cells": [
  {
   "cell_type": "markdown",
   "metadata": {},
   "source": [
    "# NAME: ILOBA Michael\n",
    "# MAT.NO: \n",
    "# EMAIL: michael.iloba@pau.edu.ng\n"
   ]
  },
  {
   "cell_type": "markdown",
   "metadata": {},
   "source": [
    "## Project 1 \n",
    "### Description: Develop the algorithm (pseudocode) and python program to get the difference between a given number and 17, if the number is greater than 17 return double the absolute difference.\n"
   ]
  },
  {
   "cell_type": "markdown",
   "metadata": {},
   "source": [
    "## Pseudocode\n",
    "### INPUT number\n",
    "### IF number > 17\n",
    "### PRINT (number - 17) * 2\n",
    "### ELSE \n",
    "### PRINT number - 17"
   ]
  },
  {
   "cell_type": "markdown",
   "metadata": {},
   "source": [
    "![SST LAB](images/Picture1.png)"
   ]
  },
  {
   "cell_type": "code",
   "execution_count": 8,
   "metadata": {},
   "outputs": [
    {
     "name": "stdout",
     "output_type": "stream",
     "text": [
      "Input number: 4\n",
      "13\n"
     ]
    }
   ],
   "source": [
    "a = int(input(\"Input number: \"))\n",
    "b = int(a-17)\n",
    "z = abs(b)\n",
    "if a > 17:\n",
    "    print((a - 17)*2)\n",
    "else:\n",
    "    print(z) \n",
    "    "
   ]
  },
  {
   "cell_type": "markdown",
   "metadata": {},
   "source": [
    "## Project 2\n",
    "### Description : Develop the algorithm (pseudocode) and python program to calculate the sum of three given numbers, if the values are equal then return thrice of their sum.\n"
   ]
  },
  {
   "cell_type": "markdown",
   "metadata": {},
   "source": [
    "## Pseudocode \n",
    "### INPUT Three numbers\n",
    "### SUM The three numbers\n",
    "### IF Numbers are the same\n",
    "### PRINT 3 * SUM\n",
    "### ELSE\n",
    "### PRINT SUM\n"
   ]
  },
  {
   "attachments": {},
   "cell_type": "markdown",
   "metadata": {},
   "source": [
    "![SST LAB](images/Picture2.png)\n"
   ]
  },
  {
   "cell_type": "code",
   "execution_count": 14,
   "metadata": {},
   "outputs": [
    {
     "name": "stdout",
     "output_type": "stream",
     "text": [
      "Input number 1: 2\n",
      "Input number 2: 3\n",
      "Input number 3: 4\n",
      "9\n"
     ]
    }
   ],
   "source": [
    "a = int(input(\"Input number 1: \"))\n",
    "b = int(input(\"Input number 2: \"))\n",
    "c = int(input(\"Input number 3: \"))\n",
    "if a == b == c:\n",
    "    print((a + b + c)*3)\n",
    "else:\n",
    "    print(a + b + c)"
   ]
  },
  {
   "cell_type": "markdown",
   "metadata": {},
   "source": [
    "## Project 3\n",
    "### Description : Develop the algorithm (pseudocode) and python program which will return true if the two given integer values are equal or their sum or difference is 5.\n"
   ]
  },
  {
   "cell_type": "markdown",
   "metadata": {},
   "source": [
    "## Pseudocode\n",
    "### INPUT Two numbers\n",
    "### SUM Two numbers\n",
    "### SUBTRACT Two numbers\n",
    "### IF Two numbers are the same or sum of two numbers = 5 or difference of two numbers = 5\n",
    "### PRINT True\n",
    "### ELSE\n",
    "### PRINT FALSE\n"
   ]
  },
  {
   "cell_type": "markdown",
   "metadata": {},
   "source": [
    "![SST LAB](images/Picture3.png)"
   ]
  },
  {
   "cell_type": "code",
   "execution_count": 18,
   "metadata": {},
   "outputs": [
    {
     "name": "stdout",
     "output_type": "stream",
     "text": [
      "Input number 1: 2\n",
      "Input number 2: 3\n",
      "True\n"
     ]
    }
   ],
   "source": [
    "a = int(input(\"Input number 1: \"))\n",
    "b = int(input(\"Input number 2: \"))\n",
    "c = int(a-b)\n",
    "d = int(a+b)\n",
    "if a==b or c==5 or d==5:\n",
    "    print(\"True\")\n",
    "else:\n",
    "    print(\"False\")"
   ]
  },
  {
   "cell_type": "markdown",
   "metadata": {},
   "source": [
    "## Project 4\n",
    "### Description: Develop the algorithm and python program to sort three integers without using conditional statements and loops.\n"
   ]
  },
  {
   "cell_type": "markdown",
   "metadata": {},
   "source": [
    "## Pseudocode\n",
    "### "
   ]
  },
  {
   "cell_type": "markdown",
   "metadata": {},
   "source": [
    "## Project 5\n",
    "### Description: Develop the algorithm and python function that takes a positive integer and returns the sum of the cube of all the positive integers smaller than the specified number.\n"
   ]
  },
  {
   "cell_type": "markdown",
   "metadata": {},
   "source": [
    "## Pseudocode\n",
    "### "
   ]
  },
  {
   "cell_type": "code",
   "execution_count": 20,
   "metadata": {},
   "outputs": [
    {
     "name": "stdout",
     "output_type": "stream",
     "text": [
      "input number: 4\n"
     ]
    }
   ],
   "source": [
    "x = int(input(\"input number: \"))\n",
    "\n",
    "while x < :\n",
    "    print (x**2)\n",
    "    x = x + 1\n"
   ]
  },
  {
   "cell_type": "code",
   "execution_count": null,
   "metadata": {},
   "outputs": [],
   "source": []
  }
 ],
 "metadata": {
  "kernelspec": {
   "display_name": "Python 3",
   "language": "python",
   "name": "python3"
  },
  "language_info": {
   "codemirror_mode": {
    "name": "ipython",
    "version": 3
   },
   "file_extension": ".py",
   "mimetype": "text/x-python",
   "name": "python",
   "nbconvert_exporter": "python",
   "pygments_lexer": "ipython3",
   "version": "3.8.5"
  }
 },
 "nbformat": 4,
 "nbformat_minor": 4
}
